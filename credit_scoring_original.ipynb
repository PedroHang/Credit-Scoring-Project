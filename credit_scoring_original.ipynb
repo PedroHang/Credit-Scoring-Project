{
 "cells": [
  {
   "cell_type": "markdown",
   "metadata": {},
   "source": [
    "### TITLE HERE"
   ]
  },
  {
   "cell_type": "code",
   "execution_count": null,
   "metadata": {},
   "outputs": [],
   "source": [
    "import pandas as pd"
   ]
  },
  {
   "cell_type": "markdown",
   "metadata": {},
   "source": [
    "<style>\r\n",
    "  table {\r\n",
    "      width: 100%;\r\n",
    "      border-collapse: collapse;\r\n",
    "      font-family: Arial, sans-serif;\r\n",
    "      font-size: 1.1em;\r\n",
    "  }\r\n",
    "  th, td {\r\n",
    "      text-align: left;\r\n",
    "      padding: 12px;\r\n",
    "  }\r\n",
    "  th {\r\n",
    "      background-color: #15616d;\r\n",
    "      color: white;\r\n",
    "  }\r\n",
    "  tr:nth-child(odd) {\r\n",
    "      background-color: #ffecd1;\r\n",
    "  }\r\n",
    "  tr:nth-child(even) {\r\n",
    "      background-color: #f2f2f2;\r\n",
    "  }\r\n",
    "  tr:hover {\r\n",
    "      background-color: #ff7d00;\r\n",
    "      color: white;\r\n",
    "  }\r\n",
    "</style>\r\n",
    "\r\n",
    "<table>\r\n",
    "    <tr><th>Variable Name</th><th>Possible Values and Explanation</th></tr>\r\n",
    "    <tr><td><strong>reference_date</strong></td><td>Dates representing the reference period for the data.</td></tr>\r\n",
    "    <tr><td><strong>index</strong></td><td>A unique identifier for each record.</td></tr>\r\n",
    "    <tr><td><strong>gender</strong></td><td>M: Male, F: Female</td></tr>\r\n",
    "    <tr><td><strong>car_ownership</strong></td><td>Yes: Owns a car, No: Does not own a car</td></tr>\r\n",
    "    <tr><td><strong>house_ownership</strong></td><td>Yes: Owns a house, No: Does not own a house</td></tr>\r\n",
    "    <tr><td><strong>children_count</strong></td><td>Number of children the individual has.</td></tr>\r\n",
    "    <tr><td><strong>income_type</strong></td><td>\r\n",
    "        Entrepreneur: Owns a business, Salaried: Earns a fixed salary, \r\n",
    "        Public Servant: Works for the government, Pensioner: Receives a pension, \r\n",
    "        Scholarship Holder: Receives a scholarship\r\n",
    "    </td></tr>\r\n",
    "    <tr><td><strong>education</strong></td><td>\r\n",
    "        High School: Completed secondary education, \r\n",
    "        Incomplete Higher: Some higher education but not completed, \r\n",
    "        Complete Higher: Completed higher education, \r\n",
    "        Primary: Completed primary education, \r\n",
    "        Postgraduate: Completed education beyond a bachelor's degree\r\n",
    "    </td></tr>\r\n",
    "    <tr><td><strong>marital_status</strong></td><td>\r\n",
    "        Single: Not married, Married: Legally married, \r\n",
    "        Union: In a domestic partnership, Separated: Legally separated, \r\n",
    "        Widowed: Lost spouse to death\r\n",
    "    </td></tr>\r\n",
    "    <tr><td><strong>residence_type</strong></td><td>\r\n",
    "        House: Lives in a private house, With Parents: Lives with parents, \r\n",
    "        Rented: Rents a residence, Community: Lives in community housing, \r\n",
    "        Governmental: Lives in government-provided housing, \r\n",
    "        Studio: Lives in a studio apartment\r\n",
    "    </td></tr>\r\n",
    "    <tr><td><strong>age</strong></td><td>Age of the individual in years.</td></tr>\r\n",
    "    <tr><td><strong>employment_time</strong></td><td>Number of years the individual has been employed.</td></tr>\r\n",
    "    <tr><td><strong>residents_count</strong></td><td>Number of people living in the same residence.</td></tr>\r\n",
    "    <tr><td><strong>income</strong></td><td>Monthly income of the individual.</td></tr>\r\n",
    "    <tr><td><strong>default</strong></td><td>0: No default, 1: Defaulted on a loan or payment</td></tr>\r\n",
    "</table>\r\n"
   ]
  },
  {
   "cell_type": "markdown",
   "metadata": {},
   "source": [
    "---\r\n",
    "\r\n",
    "<div style=\"background-color: #15616d; color: white; padding: 20px; border-radius: 10px;\">\r\n",
    "    <h1 style=\"text-align: center; font-family: 'Arial', sans-serif;\">📥 Importing Data</h1>\r\n",
    "    <p style=\"font-size: 1.2em; text-align: center;\">\r\n",
    "        In this first step, we are importing the Feather file containing our dataset from an S3 bucket. Importing data in this manner offers several advantages:\r\n",
    "    </p>\r\n",
    "</div>\r\n",
    "\r\n",
    "---\r\n",
    "\r\n",
    "<p style=\"fo3t-size: 1.4em;\">\r\n",
    "<strong>1 - S3 is super fast</strong> and it saves us from having a heavier GitHub repository, abstracting some complexity.\r\n",
    "</p>\r\n",
    "\r\n",
    "<p style3\"font-size: 1.4em;\">\r\n",
    "<strong>2 - Feather files</strong> are more efficient than CSVs in Python because they support faster read/write operations and are optimized for memory usage, making them ideal for large datasets.\r\n",
    "</p>\r\n"
   ]
  },
  {
   "cell_type": "code",
   "execution_count": 66,
   "metadata": {},
   "outputs": [],
   "source": [
    "# S3 bucket and object key\n",
    "bucket_name = 'dataset-content-pedrohang'\n",
    "object_key = 'credit-scoring/credit_scoring.ftr'\n",
    "\n",
    "# Constructing the S3 URI\n",
    "s3_uri = f's3://{bucket_name}/{object_key}'\n",
    "\n",
    "# Reading the feather file from S3\n",
    "df = pd.read_feather(s3_uri, storage_options={'anon': True})"
   ]
  },
  {
   "cell_type": "code",
   "execution_count": 72,
   "metadata": {
    "scrolled": true
   },
   "outputs": [
    {
     "data": {
      "text/html": [
       "<div>\n",
       "<style scoped>\n",
       "    .dataframe tbody tr th:only-of-type {\n",
       "        vertical-align: middle;\n",
       "    }\n",
       "\n",
       "    .dataframe tbody tr th {\n",
       "        vertical-align: top;\n",
       "    }\n",
       "\n",
       "    .dataframe thead th {\n",
       "        text-align: right;\n",
       "    }\n",
       "</style>\n",
       "<table border=\"1\" class=\"dataframe\">\n",
       "  <thead>\n",
       "    <tr style=\"text-align: right;\">\n",
       "      <th></th>\n",
       "      <th>reference_date</th>\n",
       "      <th>index</th>\n",
       "      <th>gender</th>\n",
       "      <th>car_ownership</th>\n",
       "      <th>house_ownership</th>\n",
       "      <th>children_count</th>\n",
       "      <th>income_type</th>\n",
       "      <th>education</th>\n",
       "      <th>marital_status</th>\n",
       "      <th>residence_type</th>\n",
       "      <th>age</th>\n",
       "      <th>employment_time</th>\n",
       "      <th>residents_count</th>\n",
       "      <th>income</th>\n",
       "      <th>default</th>\n",
       "    </tr>\n",
       "  </thead>\n",
       "  <tbody>\n",
       "    <tr>\n",
       "      <th>0</th>\n",
       "      <td>2015-01-01</td>\n",
       "      <td>5733</td>\n",
       "      <td>F</td>\n",
       "      <td>No</td>\n",
       "      <td>No</td>\n",
       "      <td>0</td>\n",
       "      <td>Entrepreneur</td>\n",
       "      <td>High School</td>\n",
       "      <td>Single</td>\n",
       "      <td>House</td>\n",
       "      <td>43</td>\n",
       "      <td>6.873973</td>\n",
       "      <td>1.0</td>\n",
       "      <td>2515.39</td>\n",
       "      <td>False</td>\n",
       "    </tr>\n",
       "    <tr>\n",
       "      <th>1</th>\n",
       "      <td>2015-01-01</td>\n",
       "      <td>727</td>\n",
       "      <td>F</td>\n",
       "      <td>Yes</td>\n",
       "      <td>Yes</td>\n",
       "      <td>0</td>\n",
       "      <td>Salaried</td>\n",
       "      <td>High School</td>\n",
       "      <td>Married</td>\n",
       "      <td>House</td>\n",
       "      <td>35</td>\n",
       "      <td>4.526027</td>\n",
       "      <td>2.0</td>\n",
       "      <td>3180.19</td>\n",
       "      <td>False</td>\n",
       "    </tr>\n",
       "    <tr>\n",
       "      <th>2</th>\n",
       "      <td>2015-01-01</td>\n",
       "      <td>6374</td>\n",
       "      <td>F</td>\n",
       "      <td>No</td>\n",
       "      <td>No</td>\n",
       "      <td>2</td>\n",
       "      <td>Salaried</td>\n",
       "      <td>High School</td>\n",
       "      <td>Married</td>\n",
       "      <td>House</td>\n",
       "      <td>31</td>\n",
       "      <td>0.243836</td>\n",
       "      <td>4.0</td>\n",
       "      <td>1582.29</td>\n",
       "      <td>False</td>\n",
       "    </tr>\n",
       "  </tbody>\n",
       "</table>\n",
       "</div>"
      ],
      "text/plain": [
       "  reference_date  index gender car_ownership house_ownership  children_count  \\\n",
       "0     2015-01-01   5733      F            No              No               0   \n",
       "1     2015-01-01    727      F           Yes             Yes               0   \n",
       "2     2015-01-01   6374      F            No              No               2   \n",
       "\n",
       "    income_type    education marital_status residence_type  age  \\\n",
       "0  Entrepreneur  High School         Single          House   43   \n",
       "1      Salaried  High School        Married          House   35   \n",
       "2      Salaried  High School        Married          House   31   \n",
       "\n",
       "   employment_time  residents_count   income  default  \n",
       "0         6.873973              1.0  2515.39    False  \n",
       "1         4.526027              2.0  3180.19    False  \n",
       "2         0.243836              4.0  1582.29    False  "
      ]
     },
     "execution_count": 72,
     "metadata": {},
     "output_type": "execute_result"
    }
   ],
   "source": [
    "df.head(3)"
   ]
  },
  {
   "cell_type": "markdown",
   "metadata": {},
   "source": [
    "### We are going to delete the 'index' column since it is not useful for either ana"
   ]
  },
  {
   "cell_type": "code",
   "execution_count": null,
   "metadata": {},
   "outputs": [],
   "source": [
    "df.drop(columns=['index'], inplace=True)"
   ]
  },
  {
   "cell_type": "markdown",
   "metadata": {},
   "source": [
    "---\r\n",
    "\r\n",
    "<div style=\"background-color: #15616d; color: white; padding: 20px; border-radius: 10px;\">\r\n",
    "    <h1 style=\"text-align: center; font-family: 'Arial', sans-serif;\">⚙️ Important Functions</h1>\r\n",
    "    <p style=\"font-size: 1.2em; text-align: center;\">\r\n",
    "        In this section, we define key functions to streamline the Exploratory Data Analysis (EDA) process for the dataset. These functions are designed to simplify both univariate and bivariate analysis, providing powerful tools to better understand your data.\r\n",
    "    </p>\r\n",
    "    <p style=\"font-size: 1.2em; text-align: center;\">\r\n",
    "        You can explore these functions and many more for EDA and machine learning modeling in my public GitHub repository: \r\n",
    "        <a href=\"https://github.com/PedroHang/Templates-and-Functions\" style=\"color: #ffecd1; text-decoration: none; font-weight: bold;\">GitHub Repository</a>.\r\n",
    "    </p>\r\n",
    "</div>\r\n",
    "\r\n",
    "---\r\n",
    "\r\n",
    "## 🌟 Function: `univ_plot`\r\n",
    "This function facilitates univariate analysis on a given DataFrame, allowing you to visualize either categorical or continuous variables. It's a versatile tool for initial data exploration and provides quick insights into individual feature distributions.\r\n",
    "\r\n",
    "---\r\n",
    "\r\n",
    "## 🌟 Function: `univ_plotly`\r\n",
    "The `univ_plotly` function is designed for univariate analysis using Plotly, offering interactive visualizations. It's particularly effective for exploring categorical variables, providing a dynamic and engaging way to analyze your data. Note that when working with continuous variables, this function may perform more slowly, in which case the `univ_plot` function is recommended for better efficiency.\r\n",
    "\r\n",
    "---\r\n",
    "\r\n",
    "## 🌟 Function: `biv_plot`\r\n",
    "The `biv_plot` function is your go-to for bivariate analysis. Whether you are examining relationships between categorical variables, continuous variables, or a mix of both, this function helps you visualize the interactions and correlations within your data.\r\n",
    "\r\n",
    "---\r\n",
    "\r\n",
    "These functions are essential tools in any data scientist's arsenal, designed to make the EDA process more efficient and insightful. Don't forget to check out the full collection of templates and functions in the linked GitHub repository for more powerful data analysis tools!\r\n"
   ]
  },
  {
   "cell_type": "markdown",
   "metadata": {
    "jp-MarkdownHeadingCollapsed": true
   },
   "source": [
    "### Functions:\n",
    "(You can collapse this if you want to hide the cells that are defining the functions)"
   ]
  },
  {
   "cell_type": "code",
   "execution_count": 34,
   "metadata": {},
   "outputs": [],
   "source": [
    "def univ_plot(df, threshold=15, categorical=True, log=False):\n",
    "    import random\n",
    "    import numpy as np\n",
    "    \n",
    "    # Determine categorical and continuous columns\n",
    "    categorical_columns = [col for col in df.columns if df[col].nunique() <= threshold]\n",
    "    continuous_columns = [col for col in df.columns if df[col].nunique() > threshold]\n",
    "    \n",
    "    if categorical:\n",
    "        # Plot categorical variables\n",
    "        num_plots = len(categorical_columns)\n",
    "        if num_plots == 0:\n",
    "            print(\"No categorical variables to plot.\")\n",
    "            return\n",
    "        fig, axes = plt.subplots(nrows=(num_plots // 2) + (num_plots % 2), ncols=2, figsize=(20, 5 * ((num_plots // 2) + (num_plots % 2))))\n",
    "        axes = axes.flatten()\n",
    "        \n",
    "        for ax, col in zip(axes, categorical_columns):\n",
    "            plot = sns.countplot(x=col, data=df, hue=col, legend=False, ax=ax)\n",
    "            ax.set_title(f'Count of {col}', fontsize=20)\n",
    "            ax.set_xlabel(col, fontsize=18)\n",
    "            ax.set_ylabel('Count', fontsize=18)\n",
    "            ax.tick_params(axis='x', rotation=45, labelsize=16)\n",
    "            ax.tick_params(axis='y', labelsize=16)\n",
    "            \n",
    "            # Annotate each bar with the count if the variable has 10 or fewer categories\n",
    "            if df[col].nunique() <= 10:\n",
    "                for p in plot.patches:\n",
    "                    plot.annotate(format(p.get_height(), '.0f'), \n",
    "                                  (p.get_x() + p.get_width() / 2., p.get_height()), \n",
    "                                  ha = 'center', va = 'center', \n",
    "                                  xytext = (0, 9), \n",
    "                                  textcoords = 'offset points',\n",
    "                                  fontsize=14)\n",
    "        \n",
    "        # Hide any remaining axes if the number of plots is odd\n",
    "        for i in range(num_plots, len(axes)):\n",
    "            fig.delaxes(axes[i])\n",
    "        \n",
    "        plt.tight_layout()\n",
    "        plt.show()\n",
    "    else:\n",
    "        # Define a list of colors\n",
    "        colors = [\n",
    "            '#1f77b4', '#ff7f0e', '#2ca02c', \n",
    "            '#d62728', '#9467bd', '#8c564b', \n",
    "            '#e377c2', '#7f7f7f', '#bcbd22', \n",
    "            '#17becf'\n",
    "        ]\n",
    "        \n",
    "        # Plot continuous variables\n",
    "        num_plots = len(continuous_columns)\n",
    "        if num_plots == 0:\n",
    "            print(\"No continuous variables to plot.\")\n",
    "            return\n",
    "        fig, axes = plt.subplots(nrows=(num_plots // 2) + (num_plots % 2), ncols=2, figsize=(20, 5 * ((num_plots // 2) + (num_plots % 2))))\n",
    "        axes = axes.flatten()\n",
    "        \n",
    "        for ax, col in zip(axes, continuous_columns):\n",
    "            data = np.log(df[col]) if log else df[col]\n",
    "            color = random.choice(colors)\n",
    "            sns.violinplot(y=data, ax=ax, color=color)\n",
    "            ax.set_title(f'Violin Plot of {col}', fontsize=20)\n",
    "            ax.set_ylabel(col, fontsize=18)\n",
    "            ax.tick_params(axis='y', labelsize=16)\n",
    "        \n",
    "        # Hide any remaining axes if the number of plots is odd\n",
    "        for i in range(num_plots, len(axes)):\n",
    "            fig.delaxes(axes[i])\n",
    "        \n",
    "        plt.tight_layout()\n",
    "        plt.show()"
   ]
  },
  {
   "cell_type": "code",
   "execution_count": 36,
   "metadata": {},
   "outputs": [],
   "source": [
    "def univ_plotly(df, threshold=15, categorical=True, log=False):\n",
    "\n",
    "    ### Importing the packages\n",
    "    import plotly.express as px\n",
    "    import plotly.graph_objects as go\n",
    "    from plotly.subplots import make_subplots\n",
    "    import numpy as np\n",
    "    \n",
    "    # Determine categorical and continuous columns\n",
    "    categorical_columns = [col for col in df.columns if df[col].nunique() <= threshold]\n",
    "    continuous_columns = [col for col in df.columns if df[col].nunique() > threshold]\n",
    "    \n",
    "    if categorical:\n",
    "        # Plot categorical variables\n",
    "        num_plots = len(categorical_columns)\n",
    "        if num_plots == 0:\n",
    "            print(\"No categorical variables to plot.\")\n",
    "            return\n",
    "        \n",
    "        # Create subplots with 2 columns\n",
    "        fig = make_subplots(rows=(num_plots // 2) + (num_plots % 2), cols=2, subplot_titles=categorical_columns)\n",
    "        \n",
    "        for i, col in enumerate(categorical_columns):\n",
    "            row = (i // 2) + 1\n",
    "            col_num = (i % 2) + 1\n",
    "            fig.add_trace(\n",
    "                go.Bar(x=df[col].value_counts().index, y=df[col].value_counts().values, name=col),\n",
    "                row=row, col=col_num\n",
    "            )\n",
    "            fig.update_xaxes(title_text=col, row=row, col=col_num)\n",
    "            fig.update_yaxes(title_text='Count', row=row, col=col_num)\n",
    "\n",
    "        fig.update_layout(height=400 * ((num_plots // 2) + (num_plots % 2)), width=1200, title_text=\"Categorical Variable Distribution\")\n",
    "        fig.show()\n",
    "    else:\n",
    "        # Plot continuous variables\n",
    "        num_plots = len(continuous_columns)\n",
    "        if num_plots == 0:\n",
    "            print(\"No continuous variables to plot.\")\n",
    "            return\n",
    "        \n",
    "        # Create subplots with 2 columns\n",
    "        fig = make_subplots(rows=(num_plots // 2) + (num_plots % 2), cols=2, subplot_titles=continuous_columns)\n",
    "        \n",
    "        for i, col in enumerate(continuous_columns):\n",
    "            row = (i // 2) + 1\n",
    "            col_num = (i % 2) + 1\n",
    "            data = np.log(df[col]) if log else df[col]\n",
    "            fig.add_trace(\n",
    "                go.Box(y=data, name=col),\n",
    "                row=row, col=col_num\n",
    "            )\n",
    "            fig.update_yaxes(title_text=col, row=row, col=col_num)\n",
    "        \n",
    "        fig.update_layout(height=400 * ((num_plots // 2) + (num_plots % 2)), width=1200, title_text=\"Continuous Variable Distribution\")\n",
    "        fig.show()"
   ]
  },
  {
   "cell_type": "code",
   "execution_count": 38,
   "metadata": {},
   "outputs": [],
   "source": [
    "def biv_plot(df, x, y, threshold=15, sample_size=500):\n",
    "    from statsmodels.graphics.mosaicplot import mosaic\n",
    "    # Determine if the variables are categorical or continuous\n",
    "    x_is_categorical = df[x].nunique() <= threshold\n",
    "    y_is_categorical = df[y].nunique() <= threshold\n",
    "\n",
    "    plt.figure(figsize=(10, 6))\n",
    "\n",
    "    if not x_is_categorical and not y_is_categorical:\n",
    "        # Scenario 1: Continuous x Continuous\n",
    "        fig, ax = plt.subplots(figsize=(10, 6))\n",
    "        \n",
    "        # Sample for scatter plot if dataset is large\n",
    "        if len(df) > sample_size:\n",
    "            df_sampled = df.sample(sample_size)\n",
    "        else:\n",
    "            df_sampled = df\n",
    "        \n",
    "        sns.regplot(x=x, y=y, data=df_sampled, ax=ax, scatter_kws={'s': 50, 'alpha': 0.5}, line_kws={'color': 'red'}) # Scatter Plot with Regression Line\n",
    "        ax.set_title(f'Scatter Plot with Regression Line: {x} vs {y}')\n",
    "        ax.set_xlabel(x)\n",
    "        ax.set_ylabel(y)\n",
    "        \n",
    "        plt.tight_layout()\n",
    "        plt.show()\n",
    "\n",
    "    elif x_is_categorical and not y_is_categorical:\n",
    "        # Scenario 2: Continuous x Categorical\n",
    "        fig, axs = plt.subplots(2, 2, figsize=(16, 12))\n",
    "\n",
    "        sns.boxplot(x=x, y=y, data=df, ax=axs[0, 0], hue=x) # Box Plot\n",
    "        axs[0, 0].set_title('Box Plot')\n",
    "        axs[0, 0].tick_params(axis='x', rotation=45)\n",
    "\n",
    "        sns.violinplot(x=x, y=y, data=df, ax=axs[0, 1], hue=x) # Violin Plot\n",
    "        axs[0, 1].set_title('Violin Plot')\n",
    "        axs[0, 1].tick_params(axis='x', rotation=45)\n",
    "\n",
    "        sns.stripplot(x=x, y=y, data=df, jitter=True, ax=axs[1, 0], hue=x) # Strip Plot\n",
    "        axs[1, 0].set_title('Strip Plot')\n",
    "        axs[1, 0].tick_params(axis='x', rotation=45)\n",
    "\n",
    "        sns.barplot(x=x, y=y, data=df, ax=axs[1, 1], hue=x) # Bar Plot\n",
    "        axs[1, 1].set_title('Bar Plot')\n",
    "        axs[1, 1].tick_params(axis='x', rotation=45)\n",
    "\n",
    "        plt.tight_layout()\n",
    "        plt.show()\n",
    "\n",
    "    elif not x_is_categorical and y_is_categorical:\n",
    "        # Scenario 2: Categorical x Continuous (swapped)\n",
    "        fig, axs = plt.subplots(2, 2, figsize=(16, 12))\n",
    "\n",
    "        sns.boxplot(x=y, y=x, data=df, ax=axs[0, 0], hue=y) # Box Plot\n",
    "        axs[0, 0].set_title('Box Plot')\n",
    "        axs[0, 0].tick_params(axis='x', rotation=45)\n",
    "\n",
    "        sns.violinplot(x=y, y=x, data=df, ax=axs[0, 1], hue=y) # Violin Plot\n",
    "        axs[0, 1].set_title('Violin Plot')\n",
    "        axs[0, 1].tick_params(axis='x', rotation=45)\n",
    "\n",
    "        sns.stripplot(x=y, y=x, data=df, jitter=True, ax=axs[1, 0], hue=y) # Strip Plot\n",
    "        axs[1, 0].set_title('Strip Plot')\n",
    "        axs[1, 0].tick_params(axis='x', rotation=45)\n",
    "\n",
    "        sns.barplot(x=y, y=x, data=df, ax=axs[1, 1], hue=y) # Bar Plot\n",
    "        axs[1, 1].set_title('Bar Plot')\n",
    "        axs[1, 1].tick_params(axis='x', rotation=45)\n",
    "\n",
    "        plt.tight_layout()\n",
    "        plt.show()\n",
    "\n",
    "    else:\n",
    "        # Scenario 3: Categorical x Categorical\n",
    "        fig, axs = plt.subplots(2, 2, figsize=(16, 12))\n",
    "\n",
    "        # Stacked Bar Chart\n",
    "        crosstab = pd.crosstab(df[x], df[y])\n",
    "        crosstab_perc = crosstab.div(crosstab.sum(1), axis=0)\n",
    "        crosstab_perc.plot(kind='bar', stacked=True, ax=axs[0, 0])\n",
    "        axs[0, 0].set_title('Stacked Bar Chart')\n",
    "        axs[0, 0].tick_params(axis='x', rotation=45)\n",
    "\n",
    "        # Add percentage labels on top of the bars for Stacked Bar Chart\n",
    "        for container in axs[0, 0].containers:\n",
    "            axs[0, 0].bar_label(container, labels=[f'{v * 100:.1f}%' for v in container.datavalues], label_type='center')\n",
    "\n",
    "        # Grouped Bar Chart\n",
    "        crosstab.plot(kind='bar', ax=axs[0, 1])\n",
    "        axs[0, 1].set_title('Grouped Bar Chart')\n",
    "        axs[0, 1].tick_params(axis='x', rotation=45)\n",
    "\n",
    "        # Add values on top of the bars for Grouped Bar Chart\n",
    "        for container in axs[0, 1].containers:\n",
    "            axs[0, 1].bar_label(container)\n",
    "\n",
    "        # Mosaic Plot\n",
    "        mosaic(df, [x, y], ax=axs[1, 0])\n",
    "        axs[1, 0].set_title('Mosaic Plot')\n",
    "        axs[1, 0].tick_params(axis='x', rotation=45)\n",
    "\n",
    "        # Count Plot\n",
    "        sns.countplot(x=x, hue=y, data=df, ax=axs[1, 1])\n",
    "        axs[1, 1].set_title('Count Plot')\n",
    "        axs[1, 1].tick_params(axis='x', rotation=45)\n",
    "\n",
    "        plt.tight_layout()\n",
    "        plt.show()"
   ]
  },
  {
   "cell_type": "markdown",
   "metadata": {},
   "source": [
    "## Amostragem\n",
    "\n",
    "Separe os três últimos meses como safras de validação *out of time* (oot).\n",
    "\n",
    "Variáveis:<br>\n",
    "Considere que a variável ```data_ref``` não é uma variável explicativa, é somente uma variável indicadora da safra, e não deve ser utilizada na modelagem. A variávei ```index``` é um identificador do cliente, e também não deve ser utilizada como covariável (variável explicativa). As restantes podem ser utilizadas para prever a inadimplência, incluindo a renda.\n"
   ]
  },
  {
   "cell_type": "code",
   "execution_count": null,
   "metadata": {},
   "outputs": [],
   "source": []
  },
  {
   "cell_type": "markdown",
   "metadata": {},
   "source": [
    "## Descritiva básica univariada\n",
    "\n",
    "- Descreva a base quanto ao número de linhas, número de linhas para cada mês em ```data_ref```.\n",
    "- Faça uma descritiva básica univariada de cada variável. Considere as naturezas diferentes: qualitativas e quantitativas."
   ]
  },
  {
   "cell_type": "code",
   "execution_count": null,
   "metadata": {},
   "outputs": [],
   "source": []
  },
  {
   "cell_type": "markdown",
   "metadata": {},
   "source": [
    "## Descritiva bivariada\n",
    "\n",
    "Faça uma análise descritiva bivariada de cada variável"
   ]
  },
  {
   "cell_type": "code",
   "execution_count": null,
   "metadata": {},
   "outputs": [],
   "source": []
  },
  {
   "cell_type": "markdown",
   "metadata": {},
   "source": [
    "## Desenvolvimento do modelo\n",
    "\n",
    "Desenvolva um modelo de *credit scoring* através de uma regressão logística.\n",
    "\n",
    "- Trate valores missings e outliers\n",
    "- Trate 'zeros estruturais'\n",
    "- Faça agrupamentos de categorias conforme vimos em aula\n",
    "- Proponha uma equação preditiva para 'mau'\n",
    "- Caso hajam categorias não significantes, justifique"
   ]
  },
  {
   "cell_type": "code",
   "execution_count": null,
   "metadata": {},
   "outputs": [],
   "source": []
  },
  {
   "cell_type": "markdown",
   "metadata": {},
   "source": [
    "## Avaliação do modelo\n",
    "\n",
    "Avalie o poder discriminante do modelo pelo menos avaliando acurácia, KS e Gini.\n",
    "\n",
    "Avalie estas métricas nas bases de desenvolvimento e *out of time*."
   ]
  },
  {
   "cell_type": "code",
   "execution_count": null,
   "metadata": {},
   "outputs": [],
   "source": []
  },
  {
   "cell_type": "code",
   "execution_count": null,
   "metadata": {},
   "outputs": [],
   "source": []
  },
  {
   "cell_type": "markdown",
   "metadata": {},
   "source": [
    "## Criar um pipeline utilizando o sklearn pipeline "
   ]
  },
  {
   "cell_type": "code",
   "execution_count": null,
   "metadata": {},
   "outputs": [],
   "source": []
  },
  {
   "cell_type": "markdown",
   "metadata": {},
   "source": [
    "## Pré processamento"
   ]
  },
  {
   "cell_type": "markdown",
   "metadata": {},
   "source": [
    "### Substituição de nulos (nans)\n",
    "\n",
    "Existe nulos na base? é dado numérico ou categórico? qual o valor de substituição? média? valor mais frequente? etc"
   ]
  },
  {
   "cell_type": "code",
   "execution_count": null,
   "metadata": {},
   "outputs": [],
   "source": []
  },
  {
   "cell_type": "code",
   "execution_count": null,
   "metadata": {},
   "outputs": [],
   "source": []
  },
  {
   "cell_type": "markdown",
   "metadata": {},
   "source": [
    "### Remoção de outliers\n",
    "\n",
    "Como identificar outlier? Substituir o outlier por algum valor? Remover a linha?"
   ]
  },
  {
   "cell_type": "code",
   "execution_count": null,
   "metadata": {},
   "outputs": [],
   "source": []
  },
  {
   "cell_type": "code",
   "execution_count": null,
   "metadata": {},
   "outputs": [],
   "source": []
  },
  {
   "cell_type": "code",
   "execution_count": null,
   "metadata": {},
   "outputs": [],
   "source": []
  },
  {
   "cell_type": "markdown",
   "metadata": {},
   "source": [
    "### Seleção de variáveis\n",
    "\n",
    "Qual tipo de técnica? Boruta? Feature importance? "
   ]
  },
  {
   "cell_type": "code",
   "execution_count": null,
   "metadata": {},
   "outputs": [],
   "source": []
  },
  {
   "cell_type": "code",
   "execution_count": null,
   "metadata": {},
   "outputs": [],
   "source": []
  },
  {
   "cell_type": "code",
   "execution_count": null,
   "metadata": {},
   "outputs": [],
   "source": []
  },
  {
   "cell_type": "markdown",
   "metadata": {},
   "source": [
    "### Redução de dimensionalidade (PCA)\n",
    "\n",
    "Aplicar PCA para reduzir a dimensionalidade para 5"
   ]
  },
  {
   "cell_type": "code",
   "execution_count": null,
   "metadata": {},
   "outputs": [],
   "source": []
  },
  {
   "cell_type": "code",
   "execution_count": null,
   "metadata": {},
   "outputs": [],
   "source": []
  },
  {
   "cell_type": "markdown",
   "metadata": {},
   "source": [
    "### Criação de dummies\n",
    "\n",
    "Aplicar o get_dummies() ou onehotencoder() para transformar colunas catégoricas do dataframe em colunas de 0 e 1. \n",
    "- sexo\n",
    "- posse_de_veiculo\n",
    "- posse_de_imovel\n",
    "- tipo_renda\n",
    "- educacao\n",
    "- estado_civil\n",
    "- tipo_residencia"
   ]
  },
  {
   "cell_type": "code",
   "execution_count": null,
   "metadata": {},
   "outputs": [],
   "source": []
  },
  {
   "cell_type": "code",
   "execution_count": null,
   "metadata": {},
   "outputs": [],
   "source": []
  },
  {
   "cell_type": "markdown",
   "metadata": {},
   "source": [
    "### Pipeline \n",
    "\n",
    "Crie um pipeline contendo essas funções.\n",
    "\n",
    "preprocessamento()\n",
    "- substituicao de nulos\n",
    "- remoção outliers\n",
    "- PCA\n",
    "- Criação de dummy de pelo menos 1 variável (posse_de_veiculo)"
   ]
  },
  {
   "cell_type": "code",
   "execution_count": null,
   "metadata": {},
   "outputs": [],
   "source": []
  },
  {
   "cell_type": "code",
   "execution_count": null,
   "metadata": {},
   "outputs": [],
   "source": []
  },
  {
   "cell_type": "markdown",
   "metadata": {},
   "source": [
    "### Treinar um modelo de regressão logistica com o resultado"
   ]
  },
  {
   "cell_type": "code",
   "execution_count": null,
   "metadata": {},
   "outputs": [],
   "source": []
  },
  {
   "cell_type": "code",
   "execution_count": null,
   "metadata": {},
   "outputs": [],
   "source": []
  },
  {
   "cell_type": "markdown",
   "metadata": {},
   "source": [
    "### Salvar o pickle file do modelo treinado"
   ]
  },
  {
   "cell_type": "code",
   "execution_count": null,
   "metadata": {},
   "outputs": [],
   "source": [
    "import pickle\n",
    "\n",
    "nome_arquivo = 'model_final.pkl'\n",
    "pickle.dump(model, open(nome_arquivo, 'wb'))"
   ]
  },
  {
   "cell_type": "code",
   "execution_count": null,
   "metadata": {},
   "outputs": [],
   "source": []
  },
  {
   "cell_type": "code",
   "execution_count": null,
   "metadata": {},
   "outputs": [],
   "source": []
  },
  {
   "cell_type": "code",
   "execution_count": null,
   "metadata": {},
   "outputs": [],
   "source": []
  },
  {
   "cell_type": "markdown",
   "metadata": {},
   "source": [
    "# Pycaret na base de dados \n",
    "\n",
    "Utilize o pycaret para pre processar os dados e rodar o modelo **lightgbm**. Faça todos os passos a passos da aula e gere os gráficos finais. E o pipeline de toda a transformação.\n",
    "\n"
   ]
  },
  {
   "cell_type": "code",
   "execution_count": null,
   "metadata": {},
   "outputs": [],
   "source": []
  },
  {
   "cell_type": "code",
   "execution_count": null,
   "metadata": {},
   "outputs": [],
   "source": []
  },
  {
   "cell_type": "code",
   "execution_count": 4,
   "metadata": {},
   "outputs": [
    {
     "data": {
      "text/html": [
       "<div><div id=caeac66e-1f4d-4950-81fe-dbe283d6bd4d style=\"display:none; background-color:#9D6CFF; color:white; width:200px; height:30px; padding-left:5px; border-radius:4px; flex-direction:row; justify-content:space-around; align-items:center;\" onmouseover=\"this.style.backgroundColor='#BA9BF8'\" onmouseout=\"this.style.backgroundColor='#9D6CFF'\" onclick=\"window.commands?.execute('create-mitosheet-from-dataframe-output');\">See Full Dataframe in Mito</div> <script> if (window.commands.hasCommand('create-mitosheet-from-dataframe-output')) document.getElementById('caeac66e-1f4d-4950-81fe-dbe283d6bd4d').style.display = 'flex' </script> <table border=\"1\" class=\"dataframe\">\n",
       "  <thead>\n",
       "    <tr style=\"text-align: right;\">\n",
       "      <th></th>\n",
       "      <th>data_ref</th>\n",
       "      <th>index</th>\n",
       "      <th>sexo</th>\n",
       "      <th>posse_de_veiculo</th>\n",
       "      <th>posse_de_imovel</th>\n",
       "      <th>qtd_filhos</th>\n",
       "      <th>tipo_renda</th>\n",
       "      <th>educacao</th>\n",
       "      <th>estado_civil</th>\n",
       "      <th>tipo_residencia</th>\n",
       "      <th>idade</th>\n",
       "      <th>tempo_emprego</th>\n",
       "      <th>qt_pessoas_residencia</th>\n",
       "      <th>renda</th>\n",
       "      <th>mau</th>\n",
       "    </tr>\n",
       "  </thead>\n",
       "  <tbody>\n",
       "    <tr>\n",
       "      <th>0</th>\n",
       "      <td>2015-01-01</td>\n",
       "      <td>5733</td>\n",
       "      <td>F</td>\n",
       "      <td>N</td>\n",
       "      <td>N</td>\n",
       "      <td>0</td>\n",
       "      <td>Empresário</td>\n",
       "      <td>Médio</td>\n",
       "      <td>Solteiro</td>\n",
       "      <td>Casa</td>\n",
       "      <td>43</td>\n",
       "      <td>6.873973</td>\n",
       "      <td>1.0</td>\n",
       "      <td>2515.39</td>\n",
       "      <td>False</td>\n",
       "    </tr>\n",
       "    <tr>\n",
       "      <th>1</th>\n",
       "      <td>2015-01-01</td>\n",
       "      <td>727</td>\n",
       "      <td>F</td>\n",
       "      <td>S</td>\n",
       "      <td>S</td>\n",
       "      <td>0</td>\n",
       "      <td>Assalariado</td>\n",
       "      <td>Médio</td>\n",
       "      <td>Casado</td>\n",
       "      <td>Casa</td>\n",
       "      <td>35</td>\n",
       "      <td>4.526027</td>\n",
       "      <td>2.0</td>\n",
       "      <td>3180.19</td>\n",
       "      <td>False</td>\n",
       "    </tr>\n",
       "    <tr>\n",
       "      <th>2</th>\n",
       "      <td>2015-01-01</td>\n",
       "      <td>6374</td>\n",
       "      <td>F</td>\n",
       "      <td>N</td>\n",
       "      <td>N</td>\n",
       "      <td>2</td>\n",
       "      <td>Assalariado</td>\n",
       "      <td>Médio</td>\n",
       "      <td>Casado</td>\n",
       "      <td>Casa</td>\n",
       "      <td>31</td>\n",
       "      <td>0.243836</td>\n",
       "      <td>4.0</td>\n",
       "      <td>1582.29</td>\n",
       "      <td>False</td>\n",
       "    </tr>\n",
       "    <tr>\n",
       "      <th>3</th>\n",
       "      <td>2015-01-01</td>\n",
       "      <td>9566</td>\n",
       "      <td>F</td>\n",
       "      <td>N</td>\n",
       "      <td>N</td>\n",
       "      <td>0</td>\n",
       "      <td>Assalariado</td>\n",
       "      <td>Médio</td>\n",
       "      <td>Casado</td>\n",
       "      <td>Casa</td>\n",
       "      <td>54</td>\n",
       "      <td>12.772603</td>\n",
       "      <td>2.0</td>\n",
       "      <td>13721.17</td>\n",
       "      <td>False</td>\n",
       "    </tr>\n",
       "    <tr>\n",
       "      <th>4</th>\n",
       "      <td>2015-01-01</td>\n",
       "      <td>9502</td>\n",
       "      <td>F</td>\n",
       "      <td>S</td>\n",
       "      <td>N</td>\n",
       "      <td>0</td>\n",
       "      <td>Assalariado</td>\n",
       "      <td>Superior incompleto</td>\n",
       "      <td>Solteiro</td>\n",
       "      <td>Casa</td>\n",
       "      <td>31</td>\n",
       "      <td>8.432877</td>\n",
       "      <td>1.0</td>\n",
       "      <td>2891.08</td>\n",
       "      <td>False</td>\n",
       "    </tr>\n",
       "  </tbody>\n",
       "</table></div>"
      ],
      "text/plain": [
       "    data_ref  index sexo posse_de_veiculo posse_de_imovel  qtd_filhos  \\\n",
       "0 2015-01-01   5733    F                N               N           0   \n",
       "1 2015-01-01    727    F                S               S           0   \n",
       "2 2015-01-01   6374    F                N               N           2   \n",
       "3 2015-01-01   9566    F                N               N           0   \n",
       "4 2015-01-01   9502    F                S               N           0   \n",
       "\n",
       "    tipo_renda             educacao estado_civil tipo_residencia  idade  \\\n",
       "0   Empresário                Médio     Solteiro            Casa     43   \n",
       "1  Assalariado                Médio       Casado            Casa     35   \n",
       "2  Assalariado                Médio       Casado            Casa     31   \n",
       "3  Assalariado                Médio       Casado            Casa     54   \n",
       "4  Assalariado  Superior incompleto     Solteiro            Casa     31   \n",
       "\n",
       "   tempo_emprego  qt_pessoas_residencia     renda    mau  \n",
       "0       6.873973                    1.0   2515.39  False  \n",
       "1       4.526027                    2.0   3180.19  False  \n",
       "2       0.243836                    4.0   1582.29  False  \n",
       "3      12.772603                    2.0  13721.17  False  \n",
       "4       8.432877                    1.0   2891.08  False  "
      ]
     },
     "execution_count": 4,
     "metadata": {},
     "output_type": "execute_result"
    }
   ],
   "source": [
    "import pandas as pd\n",
    "\n",
    "df = pd.read_feather('credit_scoring.ftr')\n",
    "df.head()"
   ]
  },
  {
   "cell_type": "code",
   "execution_count": null,
   "metadata": {},
   "outputs": [],
   "source": []
  },
  {
   "cell_type": "code",
   "execution_count": null,
   "metadata": {},
   "outputs": [],
   "source": [
    "from pycaret.classification import *\n",
    "models()"
   ]
  },
  {
   "cell_type": "code",
   "execution_count": null,
   "metadata": {},
   "outputs": [],
   "source": []
  },
  {
   "cell_type": "code",
   "execution_count": null,
   "metadata": {},
   "outputs": [],
   "source": [
    "xxx = create_model('xxx')"
   ]
  },
  {
   "cell_type": "markdown",
   "metadata": {},
   "source": [
    "### Salvar o arquivo do modelo treinado"
   ]
  },
  {
   "cell_type": "code",
   "execution_count": null,
   "metadata": {},
   "outputs": [],
   "source": []
  },
  {
   "cell_type": "code",
   "execution_count": null,
   "metadata": {},
   "outputs": [],
   "source": []
  },
  {
   "cell_type": "code",
   "execution_count": null,
   "metadata": {},
   "outputs": [],
   "source": []
  },
  {
   "cell_type": "code",
   "execution_count": null,
   "metadata": {},
   "outputs": [],
   "source": []
  },
  {
   "cell_type": "markdown",
   "metadata": {},
   "source": [
    "# Projeto Final\n",
    "\n",
    "1. Subir no GITHUB todos os jupyter notebooks/códigos que você desenvolveu nesse ultimo módulo\n",
    "1. Gerar um arquivo python (.py) com todas as funções necessárias para rodar no streamlit a escoragem do arquivo de treino\n",
    "    - Criar um .py\n",
    "    - Criar um carregador de csv no streamlit \n",
    "    - Subir um csv no streamlit \n",
    "    - Criar um pipeline de pré processamento dos dados\n",
    "    - Utilizar o modelo treinado para escorar a base \n",
    "        - nome_arquivo = 'model_final.pkl'\n",
    "1. Gravar um vídeo da tela do streamlit em funcionamento (usando o próprio streamlit (temos aula disso) ou qlqr outra forma de gravação).\n",
    "1. Subir no Github o vídeo de funcionamento da ferramenta como README.md.\n",
    "1. Subir no Github os códigos desenvolvidos. \n",
    "1. Enviar links do github para o tutor corrigir."
   ]
  },
  {
   "cell_type": "code",
   "execution_count": null,
   "metadata": {},
   "outputs": [],
   "source": []
  },
  {
   "cell_type": "code",
   "execution_count": null,
   "metadata": {},
   "outputs": [],
   "source": []
  },
  {
   "cell_type": "code",
   "execution_count": null,
   "metadata": {},
   "outputs": [],
   "source": []
  },
  {
   "cell_type": "code",
   "execution_count": null,
   "metadata": {},
   "outputs": [],
   "source": []
  },
  {
   "cell_type": "code",
   "execution_count": null,
   "metadata": {},
   "outputs": [],
   "source": []
  }
 ],
 "metadata": {
  "kernelspec": {
   "display_name": "Python 3 (ipykernel)",
   "language": "python",
   "name": "python3"
  },
  "language_info": {
   "codemirror_mode": {
    "name": "ipython",
    "version": 3
   },
   "file_extension": ".py",
   "mimetype": "text/x-python",
   "name": "python",
   "nbconvert_exporter": "python",
   "pygments_lexer": "ipython3",
   "version": "3.11.7"
  },
  "toc": {
   "base_numbering": 1,
   "nav_menu": {},
   "number_sections": false,
   "sideBar": true,
   "skip_h1_title": true,
   "title_cell": "Índice",
   "title_sidebar": "Conteúdo",
   "toc_cell": false,
   "toc_position": {},
   "toc_section_display": true,
   "toc_window_display": false
  },
  "varInspector": {
   "cols": {
    "lenName": 16,
    "lenType": 16,
    "lenVar": 40
   },
   "kernels_config": {
    "python": {
     "delete_cmd_postfix": "",
     "delete_cmd_prefix": "del ",
     "library": "var_list.py",
     "varRefreshCmd": "print(var_dic_list())"
    },
    "r": {
     "delete_cmd_postfix": ") ",
     "delete_cmd_prefix": "rm(",
     "library": "var_list.r",
     "varRefreshCmd": "cat(var_dic_list()) "
    }
   },
   "types_to_exclude": [
    "module",
    "function",
    "builtin_function_or_method",
    "instance",
    "_Feature"
   ],
   "window_display": false
  }
 },
 "nbformat": 4,
 "nbformat_minor": 4
}
