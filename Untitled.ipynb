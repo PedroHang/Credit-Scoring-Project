{
 "cells": [
  {
   "cell_type": "code",
   "execution_count": 47,
   "id": "1c793d00-3aef-4ca7-b952-850d9172b092",
   "metadata": {},
   "outputs": [],
   "source": [
    "import pandas as pd\n",
    "from pycaret.classification import load_model, predict_model\n",
    "import pickle"
   ]
  },
  {
   "cell_type": "code",
   "execution_count": 49,
   "id": "e6e0d0ff-5281-4900-a828-125bb0e7f4cd",
   "metadata": {},
   "outputs": [
    {
     "name": "stdout",
     "output_type": "stream",
     "text": [
      "Transformation Pipeline and Model Successfully Loaded\n"
     ]
    }
   ],
   "source": [
    "model = load_model('./models/lr_pipeline')"
   ]
  },
  {
   "cell_type": "code",
   "execution_count": 51,
   "id": "20e18181-6330-419e-9f73-385bf8221da9",
   "metadata": {},
   "outputs": [],
   "source": [
    "# S3 bucket and object key\n",
    "bucket_name = 'dataset-content-pedrohang'\n",
    "object_key = 'credit-scoring/credit_scoring.ftr'\n",
    "\n",
    "# Constructing the S3 URI\n",
    "s3_uri = f's3://{bucket_name}/{object_key}'\n",
    "\n",
    "# Reading the feather file from S3\n",
    "df = pd.read_feather(s3_uri, storage_options={'anon': True})"
   ]
  },
  {
   "cell_type": "code",
   "execution_count": 52,
   "id": "111868db-fb45-4239-982e-6c3aa0c38b65",
   "metadata": {},
   "outputs": [
    {
     "name": "stdout",
     "output_type": "stream",
     "text": [
      "  reference_date  index gender car_ownership house_ownership  children_count  \\\n",
      "0     2015-01-01   5733      F            No              No               0   \n",
      "1     2015-01-01    727      F           Yes             Yes               0   \n",
      "2     2015-01-01   6374      F            No              No               2   \n",
      "3     2015-01-01   9566      F            No              No               0   \n",
      "4     2015-01-01   9502      F           Yes              No               0   \n",
      "\n",
      "    income_type          education marital_status residence_type  age  \\\n",
      "0  Entrepreneur        High School         Single          House   43   \n",
      "1      Salaried        High School        Married          House   35   \n",
      "2      Salaried        High School        Married          House   31   \n",
      "3      Salaried        High School        Married          House   54   \n",
      "4      Salaried  Incomplete Higher         Single          House   31   \n",
      "\n",
      "   employment_time  residents_count        income  default  prediction_label  \\\n",
      "0         6.873972              1.0   2515.389893    False                 1   \n",
      "1         4.526027              2.0   3180.189941    False                 1   \n",
      "2         0.243836              4.0   1582.290039    False                 1   \n",
      "3        12.772603              2.0  13721.169922    False                 0   \n",
      "4         8.432877              1.0   2891.080078    False                 1   \n",
      "\n",
      "   prediction_score  \n",
      "0            0.7078  \n",
      "1            0.7022  \n",
      "2            0.7715  \n",
      "3            0.5077  \n",
      "4            0.7070  \n"
     ]
    }
   ],
   "source": [
    "results = predict_model(model, data=df)\n",
    "\n",
    "# Display the accuracy or other evaluation metrics\n",
    "print(results.head()) "
   ]
  },
  {
   "cell_type": "code",
   "execution_count": null,
   "id": "9e3f8c29-19b5-4b30-9447-c0ccd9870f6c",
   "metadata": {},
   "outputs": [],
   "source": []
  },
  {
   "cell_type": "code",
   "execution_count": null,
   "id": "50b27bca-fdb7-40cb-bac7-3065ebf7fa7f",
   "metadata": {},
   "outputs": [],
   "source": []
  }
 ],
 "metadata": {
  "kernelspec": {
   "display_name": "Python 3 (ipykernel)",
   "language": "python",
   "name": "python3"
  },
  "language_info": {
   "codemirror_mode": {
    "name": "ipython",
    "version": 3
   },
   "file_extension": ".py",
   "mimetype": "text/x-python",
   "name": "python",
   "nbconvert_exporter": "python",
   "pygments_lexer": "ipython3",
   "version": "3.11.7"
  }
 },
 "nbformat": 4,
 "nbformat_minor": 5
}
