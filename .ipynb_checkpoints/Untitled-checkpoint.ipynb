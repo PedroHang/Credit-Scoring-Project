{
 "cells": [
  {
   "cell_type": "code",
   "execution_count": 40,
   "id": "1c793d00-3aef-4ca7-b952-850d9172b092",
   "metadata": {},
   "outputs": [],
   "source": [
    "import pandas as pd\n",
    "from pycaret.classification import load_model, predict_model\n",
    "import pickle"
   ]
  },
  {
   "cell_type": "code",
   "execution_count": 42,
   "id": "e6e0d0ff-5281-4900-a828-125bb0e7f4cd",
   "metadata": {},
   "outputs": [
    {
     "name": "stdout",
     "output_type": "stream",
     "text": [
      "Transformation Pipeline and Model Successfully Loaded\n"
     ]
    }
   ],
   "source": [
    "model = load_model('./models/lr_pipeline')"
   ]
  },
  {
   "cell_type": "code",
   "execution_count": 44,
   "id": "20e18181-6330-419e-9f73-385bf8221da9",
   "metadata": {},
   "outputs": [],
   "source": [
    "# S3 bucket and object key\n",
    "bucket_name = 'dataset-content-pedrohang'\n",
    "object_key = 'credit-scoring/credit_scoring.ftr'\n",
    "\n",
    "# Constructing the S3 URI\n",
    "s3_uri = f's3://{bucket_name}/{object_key}'\n",
    "\n",
    "# Reading the feather file from S3\n",
    "df = pd.read_feather(s3_uri, storage_options={'anon': True})"
   ]
  },
  {
   "cell_type": "code",
   "execution_count": 45,
   "id": "111868db-fb45-4239-982e-6c3aa0c38b65",
   "metadata": {},
   "outputs": [
    {
     "ename": "NameError",
     "evalue": "name 'predict_model' is not defined",
     "output_type": "error",
     "traceback": [
      "\u001b[1;31m---------------------------------------------------------------------------\u001b[0m",
      "\u001b[1;31mNameError\u001b[0m                                 Traceback (most recent call last)",
      "Cell \u001b[1;32mIn[45], line 1\u001b[0m\n\u001b[1;32m----> 1\u001b[0m results \u001b[38;5;241m=\u001b[39m \u001b[43mpredict_model\u001b[49m(model, data\u001b[38;5;241m=\u001b[39mdf)\n\u001b[0;32m      3\u001b[0m \u001b[38;5;66;03m# Display the accuracy or other evaluation metrics\u001b[39;00m\n\u001b[0;32m      4\u001b[0m \u001b[38;5;28mprint\u001b[39m(results\u001b[38;5;241m.\u001b[39mhead()) \n",
      "\u001b[1;31mNameError\u001b[0m: name 'predict_model' is not defined"
     ]
    }
   ],
   "source": [
    "results = predict_model(model, data=df)\n",
    "\n",
    "# Display the accuracy or other evaluation metrics\n",
    "print(results.head()) "
   ]
  },
  {
   "cell_type": "code",
   "execution_count": null,
   "id": "9e3f8c29-19b5-4b30-9447-c0ccd9870f6c",
   "metadata": {},
   "outputs": [],
   "source": []
  }
 ],
 "metadata": {
  "kernelspec": {
   "display_name": "Python 3 (ipykernel)",
   "language": "python",
   "name": "python3"
  },
  "language_info": {
   "codemirror_mode": {
    "name": "ipython",
    "version": 3
   },
   "file_extension": ".py",
   "mimetype": "text/x-python",
   "name": "python",
   "nbconvert_exporter": "python",
   "pygments_lexer": "ipython3",
   "version": "3.11.7"
  }
 },
 "nbformat": 4,
 "nbformat_minor": 5
}
